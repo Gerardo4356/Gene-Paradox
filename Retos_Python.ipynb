{
  "nbformat": 4,
  "nbformat_minor": 0,
  "metadata": {
    "colab": {
      "provenance": [],
      "toc_visible": true,
      "collapsed_sections": [
        "KintK48xWjoT",
        "cY6DhpEmW8wB",
        "y663AJgVNm71",
        "XuLcHI8mIxHr",
        "QPHiFGMgRPC4"
      ],
      "authorship_tag": "ABX9TyMZ98Lbhp9NtYQNoVwSadhM",
      "include_colab_link": true
    },
    "kernelspec": {
      "name": "python3",
      "display_name": "Python 3"
    },
    "language_info": {
      "name": "python"
    }
  },
  "cells": [
    {
      "cell_type": "markdown",
      "metadata": {
        "id": "view-in-github",
        "colab_type": "text"
      },
      "source": [
        "<a href=\"https://colab.research.google.com/github/Gerardo4356/Gene-Paradox/blob/main/Retos_Python.ipynb\" target=\"_parent\"><img src=\"https://colab.research.google.com/assets/colab-badge.svg\" alt=\"Open In Colab\"/></a>"
      ]
    },
    {
      "cell_type": "markdown",
      "source": [
        "# **DIA 4**\n",
        "\n",
        "\n"
      ],
      "metadata": {
        "id": "KintK48xWjoT"
      }
    },
    {
      "cell_type": "markdown",
      "source": [
        "## **Reto 1: Listas**"
      ],
      "metadata": {
        "id": "rivZSX4vXzAv"
      }
    },
    {
      "cell_type": "markdown",
      "source": [
        "En este desafío, debes encontrar al gatito más famoso con base en su número de seguidores.\n",
        "\n",
        "Recibirás una lista de diccionarios que incluirán las siguientes propiedades:\n",
        "\n",
        "\"name\": nombre del gatito.\n",
        "\"followers\": una lista de números, donde cada uno representa los seguidores de cada red social.\n",
        "Tu tarea es devolver una lista con los nombres de los gatos que tienen solo el mayor número de seguidores. Si hay dos o más gatos con el mismo número máximo de seguidores, deberás incluirlos en la lista resultante, manteniendo el orden en el que aparecen en la lista de entrada.\n",
        "\n",
        "Tendrás inputs y outputs como los siguientes 👇\n",
        "\n",
        "Ejemplo 1:\n",
        "\n",
        "\n",
        "Input: find_famous_cat([\n",
        "  {\n",
        "    \"name\": \"Luna\",\n",
        "    \"followers\": [500, 200, 300]\n",
        "  },\n",
        "  {\n",
        "    \"name\": \"Michi\",\n",
        "    \"followers\": [100, 300]\n",
        "  },\n",
        "])\n",
        "\n",
        "Output: [\"Luna\"]\n",
        "\n",
        "Ejemplo 2:\n",
        "\n",
        "\n",
        "Input: find_famous_cat([\n",
        "  {\n",
        "    \"name\": \"Mimi\",\n",
        "    \"followers\": [320, 120, 70]\n",
        "  },\n",
        "  {\n",
        "    \"name\": \"Milo\",\n",
        "    \"followers\": [400, 300, 100, 200]\n",
        "  },\n",
        "  {\n",
        "    \"name\": \"Gizmo\",\n",
        "    \"followers\": [250, 750]\n",
        "  }\n",
        "])\n",
        "\n",
        "Output: [\"Milo\", \"Gizmo\"]"
      ],
      "metadata": {
        "id": "GAmmCddlWrss"
      }
    },
    {
      "cell_type": "code",
      "source": [
        "def find_famous_cat(cats):\n",
        "  # Creamos una lista con el total de seguidores de cada gato\n",
        "  total_followers = []\n",
        "  for cat in cats: total_followers.append(sum(cat['followers']))\n",
        "  # Buscamos el número mayor de seguidores\n",
        "  max__number_followers = max(total_followers)\n",
        "  # Guardamos los números con el máximo\n",
        "  names = []\n",
        "  for i,cat in enumerate(cats):\n",
        "    if sum(cat['followers']) >= max__number_followers:\n",
        "      names.append(cat[\"name\"])\n",
        "\n",
        "  return names"
      ],
      "metadata": {
        "id": "-Qdl9BpNWol-"
      },
      "execution_count": null,
      "outputs": []
    },
    {
      "cell_type": "markdown",
      "source": [
        "## **Reto 2: Diccionarios**\n",
        "\n"
      ],
      "metadata": {
        "id": "9lNx-OnJZaHM"
      }
    },
    {
      "cell_type": "markdown",
      "source": [
        "En este desafío, deberás calcular el promedio general de una clase, así como el promedio individual de cada estudiante.\n",
        "\n",
        "Para ello, se te proporcionará una lista de diccionarios, cada uno de los cuales representará a un estudiante y tendrá las siguientes propiedades:\n",
        "\n",
        "\"name\": El nombre del estudiante\n",
        "\"grades\": Las notas de cada materia del estudiante\n",
        "A partir de esta información, debes retornar un nuevo diccionario que tenga la propiedad \"class_average\" con el promedio de la clase y una lista de \"students\" con los estudiantes y sus promedios individuales.\n",
        "\n",
        "Es importante mencionar que los promedios deben ser calculados con precisión y se deben redondear a dos decimales para que los test pasen sin problema alguno. Puedes usar el método round() el cual se usa de la siguiente manera 👇\n",
        "```\n",
        "number = 100.32433\n",
        "number = round(number, 2)\n",
        "#100.32\n",
        "```\n",
        "\n",
        "\n",
        "\n",
        "\n",
        "\n",
        "Ejemplo:\n",
        "\n",
        "```\n",
        "Input: get_student_average([\n",
        "  {\n",
        "    \"name\": \"Pedro\",\n",
        "    \"grades\": [90, 87, 88, 90],\n",
        "  },\n",
        "  {\n",
        "    \"name\": \"Jose\",\n",
        "    \"grades\": [99, 71, 88, 96],\n",
        "  },\n",
        "  {\n",
        "    \"name\": \"Maria\",\n",
        "    \"grades\": [92, 81, 80, 96],\n",
        "  },\n",
        "])\n",
        "\n",
        "Output: {\n",
        "  \"class_average\": 88.17,\n",
        "  \"students\": [\n",
        "    {\n",
        "      \"name\": \"Pedro\",\n",
        "      \"average\": 88.75\n",
        "    },\n",
        "    {\n",
        "      \"name\": \"Jose\",\n",
        "      \"average\": 88.5\n",
        "    },\n",
        "    {\n",
        "      \"name\": \"Maria\",\n",
        "      \"average\": 87.25\n",
        "    }\n",
        "  ]\n",
        "}\n",
        "```"
      ],
      "metadata": {
        "id": "A8XDh39IZgle"
      }
    },
    {
      "cell_type": "code",
      "source": [
        "def get_student_average(students):\n",
        "  # Primero, necesitamos calcular el promedio de cada estudiante, y dejarlo en una lista\n",
        "  averages = []\n",
        "  for student in students:\n",
        "    averages.append(\n",
        "        {\n",
        "            \"name\": student['name'],\n",
        "            \"average\": round(sum(student['grades'])/len(student['grades']),2)\n",
        "        }\n",
        "    )\n",
        "\n",
        "  # Ahora creamos el diccionario que tenga el promedio de la clase\n",
        "  # Calculamos primero el promedio\n",
        "  final_average = []\n",
        "  for average in averages: final_average.append(average['average'])\n",
        "  final_average = round(sum(final_average)/len(final_average),2)\n",
        "\n",
        "  class_averages = {\n",
        "      \"class_average\" : final_average,\n",
        "      \"students\" : averages\n",
        "  }\n",
        "\n",
        "  return class_averages"
      ],
      "metadata": {
        "colab": {
          "base_uri": "https://localhost:8080/"
        },
        "id": "C3F9ouuwZhK3",
        "outputId": "c7d2950c-fdac-4a6e-91d3-34d0e5c0810e"
      },
      "execution_count": null,
      "outputs": [
        {
          "output_type": "execute_result",
          "data": {
            "text/plain": [
              "{'class_average': 88.17,\n",
              " 'students': [{'name': 'Pedro', 'average': 88.75},\n",
              "  {'name': 'Jose', 'average': 88.5},\n",
              "  {'name': 'Maria', 'average': 87.25}]}"
            ]
          },
          "metadata": {},
          "execution_count": 14
        }
      ]
    },
    {
      "cell_type": "markdown",
      "source": [
        "## **Reto 3: Tuplas**"
      ],
      "metadata": {
        "id": "vhExVRORAl6b"
      }
    },
    {
      "cell_type": "markdown",
      "source": [
        "En este desafío, te encuentras trabajando para una empresa de transporte de carga que necesita llevar un registro de los paquetes que se envían en cada viaje. Para ello, se te proporcionará una lista de tuplas, cada una de las cuales representará un paquete y tendrá las siguientes propiedades:\n",
        "\n",
        "(id, weight, destination)\n",
        "A partir de esta información, debes crear una función que calcule el peso total de los paquetes, así como la cantidad de paquetes que se enviarán a cada destino. Para ello, debes retornar un nuevo diccionario que tenga las siguientes propiedades:\n",
        "\n",
        "\"total_weight\": El peso total de los paquetes.\n",
        "\"destinations\": Un diccionario con los destinos como claves y la cantidad de paquetes como valores.\n",
        "Es importante mencionar que la función debe redondear el peso total a dos decimales y que cada destino debe aparecer sólo una vez en el diccionario.\n",
        "\n",
        "Ejemplo:\n",
        "\n",
        "```\n",
        "Input:\n",
        "\n",
        "[\n",
        "  (1, 20, \"Mexico\"),\n",
        "  (2, 15.5, \"Colombia\"),\n",
        "  (3, 30, \"Mexico\"),\n",
        "  (4, 12, \"Argentina\"),\n",
        "  (5, 8.2, \"Colombia\"),\n",
        "  (6, 25, \"Mexico\"),\n",
        "  (7, 18.7, \"Argentina\"),\n",
        "  (8, 5, \"Colombia\"),\n",
        "  (9, 22.3, \"Argentina\"),\n",
        "  (10, 14.8, \"Colombia\")\n",
        "]\n",
        "\n",
        "Output:\n",
        "\n",
        "{\n",
        "  \"total_weight\": 171.50,\n",
        "  \"destinations\": {\n",
        "    \"Mexico\": 3,\n",
        "    \"Colombia\": 4,\n",
        "    \"Argentina\": 3\n",
        "  }\n",
        "}\n",
        "```"
      ],
      "metadata": {
        "id": "4fOZbakWApU_"
      }
    },
    {
      "cell_type": "code",
      "source": [
        "def get_packages_info(packages):\n",
        "\n",
        "  # Encontramos el total\n",
        "  total_weight = sum([i[1] for i in packages])\n",
        "  # Obtenemos destinos únicos.\n",
        "    # Usamos comprehension, y lo convertimos a un set, para eliminar repetidos, para luego convertirlo en lista otra vez\n",
        "  complete_list_destinations = [package[2] for package in packages]\n",
        "  unique_destinations = list(set(complete_list_destinations))\n",
        "\n",
        "  destinations = {}\n",
        "  for destination in unique_destinations:\n",
        "    destinations[destination] = complete_list_destinations.count(destination)\n",
        "\n",
        "\n",
        "  details = {\n",
        "      \"total_weight\": round(total_weight,2),\n",
        "      \"destinations\": destinations\n",
        "  }\n",
        "  return details\n",
        "\n",
        "\n",
        "get_packages_info([\n",
        "  (1, 20, \"Mexico\"),\n",
        "  (2, 15.5, \"Colombia\"),\n",
        "  (3, 30, \"Mexico\"),\n",
        "  (4, 12, \"Argentina\"),\n",
        "  (5, 8.2, \"Colombia\"),\n",
        "  (6, 25, \"Mexico\"),\n",
        "  (7, 18.7, \"Argentina\"),\n",
        "  (8, 5, \"Colombia\"),\n",
        "  (9, 22.3, \"Argentina\"),\n",
        "  (10, 14.8, \"Colombia\")\n",
        "])"
      ],
      "metadata": {
        "colab": {
          "base_uri": "https://localhost:8080/"
        },
        "id": "q6vTmWf2JaFV",
        "outputId": "39b0add7-9ac5-4c40-9186-b2afb9ad6d5a"
      },
      "execution_count": null,
      "outputs": [
        {
          "output_type": "execute_result",
          "data": {
            "text/plain": [
              "{'total_weight': 171.5,\n",
              " 'destinations': {'Colombia': 4, 'Mexico': 3, 'Argentina': 3}}"
            ]
          },
          "metadata": {},
          "execution_count": 59
        }
      ]
    },
    {
      "cell_type": "markdown",
      "source": [
        "# **DIA 5**"
      ],
      "metadata": {
        "id": "cY6DhpEmW8wB"
      }
    },
    {
      "cell_type": "markdown",
      "source": [
        "##Reto 1: Calcula la cantidad de letras en una oración"
      ],
      "metadata": {
        "id": "wM26eHbspeK3"
      }
    },
    {
      "cell_type": "markdown",
      "source": [
        "En este desafío deberás implementar la lógica de una función que cuente la cantidad de ocurrencias de cada letra en una cadena de texto y lo almacene en un diccionario.\n",
        "\n",
        "Es importante mencionar que la función debe ser sensible a mayúsculas y minúsculas, es decir, las letras mayúsculas y minúsculas deben considerarse diferentes.\n",
        "\n",
        "Ejemplo 1:\n",
        "\n",
        "```\n",
        "Input: \"Hola mundo\"\n",
        "\n",
        "Output: {\n",
        "  'H': 1,\n",
        "  'o': 2,\n",
        "  'l': 1,\n",
        "  'a': 1,\n",
        "  ' ': 1,\n",
        "  'M': 1,\n",
        "  'u': 1,\n",
        "  'n': 1,\n",
        "  'd': 1\n",
        "}\n",
        "```"
      ],
      "metadata": {
        "id": "Hq8ds1TZnMQ-"
      }
    },
    {
      "cell_type": "code",
      "source": [
        "def count_letters(phrase):\n",
        "  count = {}\n",
        "  for letter in phrase:\n",
        "    count[letter] = phrase.count(letter)\n",
        "  return count"
      ],
      "metadata": {
        "id": "C7stCY-UXpvM"
      },
      "execution_count": null,
      "outputs": []
    },
    {
      "cell_type": "markdown",
      "source": [
        "##Reto 2: Encuentra el mayor políndromo"
      ],
      "metadata": {
        "id": "lrxp_VeQpuLc"
      }
    },
    {
      "cell_type": "markdown",
      "source": [
        "En este desafío, debes crear una función que encuentre el palíndromo más largo en una lista de palabras.\n",
        "\n",
        "Recibirás un único parámetro: una lista de palabras. Si no hay ningún palíndromo en la lista, la función debe devolver None. Si hay más de un palíndromo con la misma longitud máxima, debes devolver el primer palíndromo encontrado en la lista.\n",
        "\n",
        "Un palíndromo es una palabra que se puede leer de la misma manera tanto hacia adelante como hacia atrás.\n",
        "\n",
        "Ejemplo 1:\n",
        "\n",
        "```\n",
        "Input: find_largest_palindrome([\"racecar\", \"level\", \"world\", \"hello\"])\n",
        "\n",
        "Output: \"racecar\"\n",
        "\n",
        "```\n",
        "Ejemplo 2:\n",
        "\n",
        "```\n",
        "Input: find_largest_palindrome([\"Platzi\", \"Python\", \"django\", \"flask\"])\n",
        "\n",
        "Output: None\n",
        "```"
      ],
      "metadata": {
        "id": "9YiCr8htp7pw"
      }
    },
    {
      "cell_type": "code",
      "source": [
        "def find_largest_palindrome(words):\n",
        "  # Añadir a una lista todos los que no son palíndromos\n",
        "  remove_list = []\n",
        "  for word in words:\n",
        "    temp = list(word)\n",
        "    temp.reverse()\n",
        "    if temp != list(word):\n",
        "      remove_list.append(word)\n",
        "  # Eliminar todos los que no son palíndromos\n",
        "  for i in remove_list:\n",
        "    words.remove(i)\n",
        "\n",
        "  # Verificamos que no esté vacía la lista\n",
        "  longest_word = None\n",
        "  if len(words) > 0:\n",
        "    # Encontrar el primero más largo\n",
        "    longest = max([len(i) for i in words])\n",
        "    for word in words:\n",
        "      if len(word) == longest:\n",
        "        longest_word = word\n",
        "        break\n",
        "\n",
        "  return longest_word\n",
        "\n",
        "find_largest_palindrome([])\n"
      ],
      "metadata": {
        "id": "ckGWOeqMp0-F"
      },
      "execution_count": null,
      "outputs": []
    },
    {
      "cell_type": "code",
      "source": [],
      "metadata": {
        "colab": {
          "base_uri": "https://localhost:8080/"
        },
        "id": "95IxfS3x8LBY",
        "outputId": "17fc0447-5c3f-4201-d1c4-4f26fc448737"
      },
      "execution_count": null,
      "outputs": [
        {
          "output_type": "execute_result",
          "data": {
            "text/plain": [
              "[2, 3, 5]"
            ]
          },
          "metadata": {},
          "execution_count": 54
        }
      ]
    },
    {
      "cell_type": "markdown",
      "source": [
        "# **DIA 6**"
      ],
      "metadata": {
        "id": "y663AJgVNm71"
      }
    },
    {
      "cell_type": "markdown",
      "source": [
        "En este desafío, debes implementar la lógica de la función find_set_intersection que encuentre la intersección de conjuntos en una lista de conjuntos.\n",
        "\n",
        "Recibirás un único parámetro: una lista de conjuntos. La función debe encontrar la intersección de todos los conjuntos de la lista y devolver el resultado como un nuevo conjunto. Si la lista está vacía o no hay intersección entre los conjuntos, la función debe devolver un conjunto vacío.\n",
        "\n",
        "Ejemplo 1:\n",
        "\n",
        "```\n",
        "Input:\n",
        "\n",
        "sets = [\n",
        "  {1, 2, 3, 4},\n",
        "  {2, 3, 4, 5},\n",
        "  {3, 4, 5, 6}\n",
        "]\n",
        "\n",
        "find_set_intersection(sets)\n",
        "\n",
        "Output: {3, 4}\n",
        "```\n",
        "Ejemplo 2:\n",
        "\n",
        "```\n",
        "Input:\n",
        "\n",
        "sets = [\n",
        "  {1, 2, 3, 4},\n",
        "  {2, 4, 6, 8},\n",
        "  {3, 6, 9, 12}\n",
        "]\n",
        "\n",
        "find_set_intersection(sets)\n",
        "\n",
        "Output: set()\n",
        "```"
      ],
      "metadata": {
        "id": "g68HZnkCTqOI"
      }
    },
    {
      "cell_type": "code",
      "source": [
        "def find_set_intersection(sets):\n",
        "  # Si la lista no está vacía, hacemos nuestro proceso\n",
        "  if len(sets) == 0:\n",
        "    return set()\n",
        "\n",
        "  interseccion = sets[0]\n",
        "  for i in sets[1:]:\n",
        "    interseccion &= i\n",
        "  return interseccion\n",
        "\n",
        "\n",
        "\n",
        "\n",
        "sets = [\n",
        "  {1, 2, 3, 4},\n",
        "  {2, 4, 6, 8}\n",
        "]\n",
        "\n",
        "find_set_intersection(sets)"
      ],
      "metadata": {
        "colab": {
          "base_uri": "https://localhost:8080/"
        },
        "id": "GXldqNZUT1M1",
        "outputId": "315999b3-5b1a-4485-e6b7-acc000fa25ef"
      },
      "execution_count": null,
      "outputs": [
        {
          "output_type": "execute_result",
          "data": {
            "text/plain": [
              "{2, 4}"
            ]
          },
          "metadata": {},
          "execution_count": 101
        }
      ]
    },
    {
      "cell_type": "markdown",
      "source": [
        "# **DIA 7**"
      ],
      "metadata": {
        "id": "XuLcHI8mIxHr"
      }
    },
    {
      "cell_type": "markdown",
      "source": [
        "## Reto 1: List Comprehension"
      ],
      "metadata": {
        "id": "GgnywvNOw4Ti"
      }
    },
    {
      "cell_type": "markdown",
      "source": [
        "En este desafío, debes crear la lógica de la función find_words_with_two_vowels que encuentre las palabras que contienen exactamente dos vocales en una lista de palabras. Las vocales pueden ser tanto mayúsculas como minúsculas.\n",
        "\n",
        "Recibirás un único parámetro: una lista de palabras. La función debe devolver una nueva lista que contenga todas las palabras de la lista original que cumplan con la condición mencionada anteriormente. En caso de no haber palabras que cumplan con esta condición deberás retornar una lista vacía.\n",
        "\n",
        "Ejemplo 1:\n",
        "```\n",
        "Input: find_words_with_two_vowels([\n",
        "  \"hello\",\n",
        "  \"Python\",\n",
        "  \"world\",\n",
        "  \"platzi\"\n",
        "])\n",
        "\n",
        "Output: [\"hello\", \"platzi\"]\n",
        "```\n",
        "Ejemplo 2:\n",
        "```\n",
        "Input: find_words_with_two_vowels([\"text\", \"test\", \"python\", \"example\"])\n",
        "Output: []\n",
        "```\n"
      ],
      "metadata": {
        "id": "XOaye29PrQ-A"
      }
    },
    {
      "cell_type": "code",
      "source": [
        "def find_words_with_two_vowels(words):\n",
        "  # Tu código aquí 👈\n",
        "  vowels = \"aeiou\"\n",
        "  words2 = [word for word in words if (word.lower().count(\"a\") +\n",
        "                                       word.lower().count(\"e\") +\n",
        "                                       word.lower().count(\"i\") +\n",
        "                                       word.lower().count(\"o\") +\n",
        "                                       word.lower().count(\"u\")\n",
        "                                       == 2)]\n",
        "\n",
        "\n",
        "  return words2\n",
        "\n",
        "find_words_with_two_vowels([\"HolA\",\"Adios\", \"Test\"])"
      ],
      "metadata": {
        "colab": {
          "base_uri": "https://localhost:8080/"
        },
        "id": "lSBQJtmxrQvH",
        "outputId": "df70d342-15cd-4166-9eb5-0eda3d2dc77e"
      },
      "execution_count": null,
      "outputs": [
        {
          "output_type": "execute_result",
          "data": {
            "text/plain": [
              "['HolA']"
            ]
          },
          "metadata": {},
          "execution_count": 30
        }
      ]
    },
    {
      "cell_type": "markdown",
      "source": [
        "## Reto 2: Dictionary comprehension"
      ],
      "metadata": {
        "id": "5EvCzlcNw2FW"
      }
    },
    {
      "cell_type": "markdown",
      "source": [
        "En este desafío, debes crear una función llamada count_words_by_length que recibe una lista de palabras y devuelve un diccionario que mapea la longitud de las palabras a la cantidad de palabras que tienen esa longitud.\n",
        "\n",
        "Ejemplo 1:\n",
        "```\n",
        "Input:\n",
        "count_words_by_length([\n",
        "  \"apple\",\n",
        "  \"banana\",\n",
        "  \"orange\",\n",
        "  \"grapefruit\",\n",
        "  \"pear\",\n",
        "  \"kiwi\"\n",
        "])\n",
        "\n",
        "Output:\n",
        "{5: 2, 6: 2, 7: 1, 10: 1}\n",
        "```\n",
        "Ejemplo 2:\n",
        "```\n",
        "Input:\n",
        "count_words_by_length([\n",
        "  \"apple\",\n",
        "  \"banana\",\n",
        "  \"orange\"\n",
        "])\n",
        "\n",
        "Output:\n",
        "{5: 1, 6: 2}\n",
        "```"
      ],
      "metadata": {
        "id": "tcjIGi2wxC1V"
      }
    },
    {
      "cell_type": "code",
      "source": [
        "def count_words_by_length(words):\n",
        "  # Tu código aquí 👈\n",
        "  letters_in_words = [len(word) for word in words]\n",
        "  dic = {letters: letters_in_words.count(letters) for letters in letters_in_words }\n",
        "  return dic\n",
        "\n",
        "\n",
        "\n",
        "count_words_by_length([\n",
        "  \"apple\",\n",
        "  \"banana\",\n",
        "  \"orange\"\n",
        "])\n",
        "\n"
      ],
      "metadata": {
        "id": "rcpf6R9SxBq_"
      },
      "execution_count": null,
      "outputs": []
    },
    {
      "cell_type": "markdown",
      "source": [
        "#DIA 8"
      ],
      "metadata": {
        "id": "QPHiFGMgRPC4"
      }
    },
    {
      "cell_type": "markdown",
      "source": [
        "## Reto 1: Lambda"
      ],
      "metadata": {
        "id": "QQ4c3TsrRSne"
      }
    },
    {
      "cell_type": "markdown",
      "source": [
        "En este desafío implementarás una función que filtre los mensajes de un usuario específico. La función filter_user_messages recibirá dos parámetros:\n",
        "\n",
        "`messages`: una lista de mensajes\n",
        "\n",
        "`user`: un nombre de usuario.\n",
        "\n",
        "Debe devolver una nueva lista que contenga solo los mensajes del usuario especificado.\n",
        "\n",
        "La lista messages contiene diccionarios con información sobre cada mensaje, incluyendo el remitente ('sender') y el contenido del mensaje ('content').\n",
        "\n",
        "En caso de no encontrar mensajes del usuario deberá retornar una lista vacía []\n",
        "\n",
        "Ejemplo 1:\n",
        "\n",
        "```\n",
        "Input:messages = [\n",
        "    {'sender': 'Alice', 'content': 'Hola, ¿cómo estás?'},\n",
        "    {'sender': 'Bob', 'content': '¡Bien, gracias!'},\n",
        "    {'sender': 'Alice', 'content': '¿Quieres tomar un café?'},\n",
        "    {'sender': 'Charlie', 'content': 'Hola a todos.'},\n",
        "    {'sender': 'Alice', 'content': 'Nos vemos luego.'}]\n",
        "\n",
        "user = 'Alice'\n",
        "filter_user_messages(messages, user)\n",
        "\n",
        "Output:\n",
        "[ {'sender': 'Alice', 'content': 'Hola, ¿cómo estás?'},\n",
        "  {'sender': 'Alice', 'content': '¿Quieres tomar un café?'},\n",
        "  {'sender': 'Alice', 'content': 'Nos vemos luego.'}]\n",
        "\n",
        "```"
      ],
      "metadata": {
        "id": "Jhii0dvoS2CR"
      }
    },
    {
      "cell_type": "code",
      "source": [
        "def filter_user_messages(messages, user):\n",
        "  # Tu código aquí 👈\n",
        "  message_from = list(filter(lambda x: x['sender']==user,messages))\n",
        "  return message_from\n",
        "\n",
        "messages = [\n",
        "    {'sender': 'Alice', 'content': 'Hola, ¿cómo estás?'},\n",
        "    {'sender': 'Bob', 'content': '¡Bien, gracias!'},\n",
        "    {'sender': 'Alice', 'content': '¿Quieres tomar un café?'},\n",
        "    {'sender': 'Charlie', 'content': 'Hola a todos.'},\n",
        "    {'sender': 'Alice', 'content': 'Nos vemos luego.'}]\n",
        "user = 'Alice'\n",
        "filter_user_messages(messages, user)\n",
        "\n"
      ],
      "metadata": {
        "colab": {
          "base_uri": "https://localhost:8080/"
        },
        "id": "4x4Xxaa_S-dG",
        "outputId": "04a5fa2b-382b-4a12-8cf1-27ab112a355c"
      },
      "execution_count": null,
      "outputs": [
        {
          "output_type": "execute_result",
          "data": {
            "text/plain": [
              "[{'sender': 'Alice', 'content': 'Hola, ¿cómo estás?'},\n",
              " {'sender': 'Alice', 'content': '¿Quieres tomar un café?'},\n",
              " {'sender': 'Alice', 'content': 'Nos vemos luego.'}]"
            ]
          },
          "metadata": {},
          "execution_count": 15
        }
      ]
    },
    {
      "cell_type": "markdown",
      "source": [
        "##Reto 2: Higher order functions"
      ],
      "metadata": {
        "id": "CmkMBwVmiIBe"
      }
    },
    {
      "cell_type": "markdown",
      "source": [
        "En este desafío, deberás implementar una función personalizada que emule el comportamiento del método map utilizando funciones de orden superior.\n",
        "\n",
        "La función recibirá dos parámetros: una lista y una función (func). La lista contendrá un conjunto de elementos (números, objetos, cadenas, etc.), y la función se utilizará para realizar una acción específica en cada elemento de la lista. El objetivo es retornar una nueva lista con los resultados obtenidos de aplicar la función a cada elemento, de manera similar a como lo haría el método map.\n",
        "\n",
        "Ejemplo 1:\n",
        "\n",
        "```\n",
        "Input: my_map([1, 2, 3, 4], lambda num: num * 2)\n",
        "\n",
        "Output: [2, 4, 6, 8]\n",
        "```\n",
        "\n",
        "Ejemplo 2:\n",
        "\n",
        "```\n",
        "Input: my_map([\n",
        "{\"name\": \"michi\", \"age\": 2},\n",
        "{\"name\": \"firulais\", \"age\": 6}],\n",
        "lambda pet: pet[\"name\"])\n",
        "\n",
        "Output: [\"michi\", \"firulais\"]\n",
        "```\n"
      ],
      "metadata": {
        "id": "bZIFVdyGix_E"
      }
    },
    {
      "cell_type": "code",
      "source": [
        "def my_map(list, func):\n",
        "  # Tu código aquí 👈\n",
        "  return [func(i) for i in list]\n",
        "\n",
        "\n",
        "my_map([\n",
        "{\"name\": \"michi\", \"age\": 2},\n",
        "{\"name\": \"firulais\", \"age\": 6}],\n",
        "lambda pet: pet[\"name\"])"
      ],
      "metadata": {
        "colab": {
          "base_uri": "https://localhost:8080/"
        },
        "id": "TongjDAAiK8N",
        "outputId": "017d0a1c-548c-4d17-9813-2ea74d884eb1"
      },
      "execution_count": null,
      "outputs": [
        {
          "output_type": "execute_result",
          "data": {
            "text/plain": [
              "['michi', 'firulais']"
            ]
          },
          "metadata": {},
          "execution_count": 25
        }
      ]
    },
    {
      "cell_type": "markdown",
      "source": [
        "#DIA 9"
      ],
      "metadata": {
        "id": "mQsMSDzhwrog"
      }
    },
    {
      "cell_type": "markdown",
      "source": [
        "##Reto 1: Maneja errores y excepciones"
      ],
      "metadata": {
        "id": "P-fpurHpwtzA"
      }
    },
    {
      "cell_type": "markdown",
      "source": [
        "En este desafío, debes crear una función llamada calculate_average que calcule el promedio de una lista de números. Sin embargo, la función debe manejar correctamente dos casos especiales:\n",
        "\n",
        "Si la lista está vacía, la función debe generar una excepción ValueError con el mensaje \"La lista está vacía\".\n",
        "\n",
        "Si la lista contiene elementos que no son números, la función debe generar una excepción TypeError con el mensaje \"La lista contiene elementos no numéricos\".\n",
        "\n",
        "Tu objetivo es implementar la función calculate_average de manera que maneje adecuadamente estos casos y devuelva el promedio de los números en la lista.\n",
        "\n",
        "Aquí tienes algunos ejemplos de entrada y salida esperada:\n",
        "\n",
        "Ejemplo 1:\n",
        "\n",
        "```\n",
        "Input: calculate_average([1, 2, 3, 4, 5])\n",
        "Output: 3.0\n",
        "```\n",
        "Ejemplo 2:\n",
        "\n",
        "```\n",
        "Input: calculate_average([10, 20, 30, 40, 50])\n",
        "Output: 30.0\n",
        "```\n",
        "Ejemplo 3:\n",
        "\n",
        "```\n",
        "Input: calculate_average([])\n",
        "Output: ValueError: La lista está vacía\n",
        "```\n",
        "Ejemplo 4:\n",
        "\n",
        "```\n",
        "Input: calculate_average([1, 2, '3', 4, 5])\n",
        "Output: TypeError: La lista contiene elementos no numéricos\n",
        "```"
      ],
      "metadata": {
        "id": "anVRUDyk8t1W"
      }
    },
    {
      "cell_type": "code",
      "source": [
        "def calculate_average(numbers):\n",
        "  # Tu código aquí 👈\n",
        "  try:\n",
        "    if len(numbers) == 0:\n",
        "      raise ValueError(\"La lista está vacía\")\n",
        "    else:\n",
        "      total = 0\n",
        "      for i in numbers:\n",
        "        numbers += numbers\n",
        "  except ValueError:\n",
        "    print(\"La lista está vacía\")\n",
        "  except TypeError:\n",
        "    print(\"La lista contiene elementos no numéricos\")\n",
        "  pass\n",
        "\n",
        "calculate_average([1, 2, '3', 4, 5])"
      ],
      "metadata": {
        "id": "rz2K9c3h6Vkw"
      },
      "execution_count": null,
      "outputs": []
    },
    {
      "cell_type": "markdown",
      "source": [
        "##Reto 2: Maneja correctamente errores"
      ],
      "metadata": {
        "id": "SUFe9wW_w3H2"
      }
    },
    {
      "cell_type": "markdown",
      "source": [
        "En este desafío, debes crear una función llamada calculate_discounted_price que calcule el precio con descuento de un producto. La función recibirá dos parámetros: price (precio) y discount (descuento). Tu objetivo es implementar la lógica necesaria para calcular el precio con el descuento aplicado.\n",
        "\n",
        "Sin embargo, hay algunas condiciones y manejo de excepciones que debes tener en cuenta:\n",
        "\n",
        "Si el precio o el descuento son valores negativos, deberás lanzar una excepción del tipo ValueError con el mensaje \"El precio y el descuento deben ser valores positivos\".\n",
        "\n",
        "Si el precio o el descuento no son números, deberás lanzar una excepción del tipo TypeError con el mensaje \"El precio y el descuento deben ser números\".\n",
        "\n",
        "En caso de que ocurra cualquier otro tipo de excepción no prevista, deberás capturarla y lanzar una excepción genérica del tipo Exception con el mensaje \"Ha ocurrido un error inesperado\" seguido del mensaje de la excepción original para obtener más detalles.\n",
        "\n",
        "Tu función debe retornar el precio con el descuento aplicado. Si el cálculo se realiza correctamente, deberás retornar el resultado. En caso de producirse alguna excepción, deberás propagarla para que pueda ser manejada en el contexto adecuado.\n",
        "\n",
        "Ejemplo 1:\n",
        "\n",
        "```\n",
        "Input: calculate_discounted_price(100, 0.2)\n",
        "Output: 80.0\n",
        "```\n",
        "Ejemplo 2:\n",
        "\n",
        "```\n",
        "Input: calculate_discounted_price(-50, 0.2)\n",
        "Output: ValueError: El precio y el descuento deben ser valor\n",
        "```"
      ],
      "metadata": {
        "id": "iU0ehQUxwuDb"
      }
    },
    {
      "cell_type": "code",
      "source": [
        "def calculate_discounted_price(price, discount):\n",
        "  # Tu código aquí 👈\n",
        "    try:\n",
        "      new_price = float(price)\n",
        "      new_discount = float(price)\n",
        "    except ValueError:\n",
        "      print(\"El precio y el descuento deben ser positivos\")\n",
        "    except TypeError:\n",
        "      print(\"El precio y el descuento deben ser números\")\n",
        "    except:\n",
        "      print(\"Error no esperado\")\n",
        "    finally:\n",
        "      final_price = new_price - new_discount\n",
        "      return final_price\n",
        "\n",
        "\n",
        "\n",
        "calculate_discounted_price(-10,10)"
      ],
      "metadata": {
        "colab": {
          "base_uri": "https://localhost:8080/"
        },
        "id": "rU6R40TT4nd7",
        "outputId": "b0ac6060-bb0d-4c03-c34c-141ec930087b"
      },
      "execution_count": null,
      "outputs": [
        {
          "output_type": "execute_result",
          "data": {
            "text/plain": [
              "0.0"
            ]
          },
          "metadata": {},
          "execution_count": 4
        }
      ]
    }
  ]
}